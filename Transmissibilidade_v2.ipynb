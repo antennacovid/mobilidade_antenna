{
 "cells": [
  {
   "cell_type": "markdown",
   "metadata": {},
   "source": [
    "# Estudo preliminar para avaliar a transmissibilidade dos distritos de São Paulo\n",
    "O presente estudo consiste em servir de inspiração para ideias e ações para tentar nortear ações de reabertura da quarentena ou qualquer ação que ajude no enfrentamento da covid. A partir de dados do IBGE - Censo 2010 e da pesquisa do origem e destino da Companhia Metropolitana de São Paulo de 2017 elaborou-se um  indice que avalia a transmissibilidade em cada distrito."
   ]
  },
  {
   "cell_type": "markdown",
   "metadata": {},
   "source": [
    "# Indice de Transmissibilidade\n",
    "\n",
    "$\\textbf{Definição:}$ O indice de transmissibilidade é calculado a partir dos indicadores sociais e indicadores de mobilidade urbano, como por exemplo o perfil de viagens da cidade de São Paulo.\n",
    "\n",
    "Assim, foram considerados as seguintes variáveis:\n",
    "\n",
    "* Perfil da distribuição de moradores por dormitório por distrito de São Paulo\n",
    "* Perfil das ligações de esgoto por distrito de São Paulo\n",
    "* Perfil da distribuição de Favelas por distrito de São Paulo\n",
    "* Porcentagem de viagens coletivas motorizadas por distrito de São Paulo\n",
    "* Total de viagens dentro de um distrito\n",
    "* Porcentagem de viagens por educação dentro do distrito\n",
    "* Porcentagem de viagens de médio confinamento do distrito\n",
    "* Porcentagem de viagens de baixo confinamento do distrito\n",
    "\n",
    "A expressão que calcula o índice encontra-se abaixo:\n",
    "\n",
    "\n",
    "$$\\begin{equation}\n",
    "IT = \\sum I_{i}*f_{i},\n",
    "\\end{equation}$$\n",
    "\n",
    "onde $I_i$ corresponde ao atributo dos distritos avaliados e $f_i$ corresponde ao fator de ponderamento desse atributo"
   ]
  },
  {
   "cell_type": "code",
   "execution_count": 1,
   "metadata": {},
   "outputs": [],
   "source": [
    "import pandas as pd\n",
    "import numpy as np\n",
    "import os\n",
    "import unidecode\n",
    "\n",
    "def _standardize_the_names(df, col_name='Distrito'):\n",
    "    df[col_name] = df[col_name].apply(lambda x: unidecode.unidecode(x))\n",
    "    df[col_name] = df[col_name].apply(lambda x: x.replace('(distrito da capital)', ''))\n",
    "    df[col_name] = df[col_name].apply(lambda x: x.title())\n",
    "    df[col_name] = df[col_name].apply(lambda x: x[:-1] if x.endswith(' ') else x).unique()\n",
    "    return df"
   ]
  },
  {
   "cell_type": "code",
   "execution_count": 2,
   "metadata": {},
   "outputs": [
    {
     "data": {
      "text/html": [
       "<div>\n",
       "<style scoped>\n",
       "    .dataframe tbody tr th:only-of-type {\n",
       "        vertical-align: middle;\n",
       "    }\n",
       "\n",
       "    .dataframe tbody tr th {\n",
       "        vertical-align: top;\n",
       "    }\n",
       "\n",
       "    .dataframe thead th {\n",
       "        text-align: right;\n",
       "    }\n",
       "</style>\n",
       "<table border=\"1\" class=\"dataframe\">\n",
       "  <thead>\n",
       "    <tr style=\"text-align: right;\">\n",
       "      <th></th>\n",
       "      <th>Distrito</th>\n",
       "      <th>geometry</th>\n",
       "    </tr>\n",
       "  </thead>\n",
       "  <tbody>\n",
       "    <tr>\n",
       "      <th>0</th>\n",
       "      <td>Jose Bonifacio</td>\n",
       "      <td>POLYGON ((-46.44604214397209 -23.5561703971907...</td>\n",
       "    </tr>\n",
       "    <tr>\n",
       "      <th>1</th>\n",
       "      <td>Jardim Sao Luis</td>\n",
       "      <td>POLYGON ((-46.75819187684431 -23.6482539059726...</td>\n",
       "    </tr>\n",
       "    <tr>\n",
       "      <th>2</th>\n",
       "      <td>Artur Alvim</td>\n",
       "      <td>POLYGON ((-46.47482722150997 -23.5234761186693...</td>\n",
       "    </tr>\n",
       "    <tr>\n",
       "      <th>3</th>\n",
       "      <td>Jaguara</td>\n",
       "      <td>POLYGON ((-46.75581263455317 -23.4948240968001...</td>\n",
       "    </tr>\n",
       "    <tr>\n",
       "      <th>4</th>\n",
       "      <td>Vila Prudente</td>\n",
       "      <td>POLYGON ((-46.58128711243225 -23.572649764946,...</td>\n",
       "    </tr>\n",
       "  </tbody>\n",
       "</table>\n",
       "</div>"
      ],
      "text/plain": [
       "          Distrito                                           geometry\n",
       "0   Jose Bonifacio  POLYGON ((-46.44604214397209 -23.5561703971907...\n",
       "1  Jardim Sao Luis  POLYGON ((-46.75819187684431 -23.6482539059726...\n",
       "2      Artur Alvim  POLYGON ((-46.47482722150997 -23.5234761186693...\n",
       "3          Jaguara  POLYGON ((-46.75581263455317 -23.4948240968001...\n",
       "4    Vila Prudente  POLYGON ((-46.58128711243225 -23.572649764946,..."
      ]
     },
     "execution_count": 2,
     "metadata": {},
     "output_type": "execute_result"
    }
   ],
   "source": [
    "#Shapes_files\n",
    "shapes=pd.read_csv('shapes_sp.csv')\n",
    "shapes.head()"
   ]
  },
  {
   "cell_type": "code",
   "execution_count": 7,
   "metadata": {},
   "outputs": [],
   "source": [
    "cols_idx=['Distrito','Idx_total_viagens',\n",
    "          'Idx_coletivas',\n",
    "          'Idx_baixo_confinamento',\n",
    "          'Idx_sem_confinamento','Index_viagens_por_educacao']\n",
    "\n",
    "#Dados de viagens\n",
    "mobilidade=_standardize_the_names(pd.read_excel('indices.xlsx',sheet_name='mobilidade'))[cols_idx]\n",
    "\n",
    "#Dados do perfil domiciliar dos distritos\n",
    "domicilio=_standardize_the_names(pd.read_excel('indices.xlsx',sheet_name='index domicilio'),col_name='Distritos')"
   ]
  },
  {
   "cell_type": "code",
   "execution_count": 8,
   "metadata": {},
   "outputs": [],
   "source": [
    "cols=['Distritos',\n",
    "      'Index domic de moradores por dormitório ponderado', \n",
    "      'Index 20% ligado a rede de esgoto', 'Index de domicílios em Favelas']\n",
    "\n",
    "domicilio_reduzido=domicilio[cols].rename(columns={'Distritos':'Distrito'})\n",
    "domicilio_reduzido=domicilio_reduzido.apply(lambda x: x/100 if x.name!='Distrito' else x)"
   ]
  },
  {
   "cell_type": "code",
   "execution_count": 9,
   "metadata": {},
   "outputs": [],
   "source": [
    "#Pesos para dados de mobilidade\n",
    "fator_coletivo=4 #Transporte coletivo\n",
    "fator_individual=1 #Transporte individual\n",
    "fator_medio=2 #Transporte de médio confinamento (Taxi)\n",
    "fator_educacao=0 #Viagens por motivos de educação que em condicão de quarentena é igual a zero."
   ]
  },
  {
   "cell_type": "code",
   "execution_count": 10,
   "metadata": {},
   "outputs": [],
   "source": [
    "mobilidade['Idx_coletivas']=fator_coletivo*mobilidade['Idx_coletivas']\n",
    "mobilidade['Idx_baixo_confinamento']=fator_medio*mobilidade['Idx_baixo_confinamento']\n",
    "mobilidade['Idx_sem_confinamento']=fator_individual*mobilidade['Idx_sem_confinamento']\n",
    "mobilidade['Index_viagens_por_educacao']=fator_educacao*mobilidade['Index_viagens_por_educacao']"
   ]
  },
  {
   "cell_type": "code",
   "execution_count": 11,
   "metadata": {},
   "outputs": [],
   "source": [
    "df_combinado=pd.merge(mobilidade,domicilio_reduzido,on='Distrito')"
   ]
  },
  {
   "cell_type": "code",
   "execution_count": 12,
   "metadata": {},
   "outputs": [],
   "source": [
    "df_combinado.set_index('Distrito',inplace=True)"
   ]
  },
  {
   "cell_type": "code",
   "execution_count": 13,
   "metadata": {},
   "outputs": [],
   "source": [
    "df_final=df_combinado.apply(lambda x: np.sum(x),axis=1).to_frame().reset_index()\n",
    "df_final.rename(columns={0:'Transmissibilidade'},inplace=True)"
   ]
  },
  {
   "cell_type": "code",
   "execution_count": 14,
   "metadata": {},
   "outputs": [],
   "source": [
    "transmissibilidade_por_distrito=pd.merge(df_final,shapes,on='Distrito')"
   ]
  },
  {
   "cell_type": "code",
   "execution_count": 15,
   "metadata": {},
   "outputs": [
    {
     "data": {
      "text/html": [
       "<div>\n",
       "<style scoped>\n",
       "    .dataframe tbody tr th:only-of-type {\n",
       "        vertical-align: middle;\n",
       "    }\n",
       "\n",
       "    .dataframe tbody tr th {\n",
       "        vertical-align: top;\n",
       "    }\n",
       "\n",
       "    .dataframe thead th {\n",
       "        text-align: right;\n",
       "    }\n",
       "</style>\n",
       "<table border=\"1\" class=\"dataframe\">\n",
       "  <thead>\n",
       "    <tr style=\"text-align: right;\">\n",
       "      <th></th>\n",
       "      <th>Distrito</th>\n",
       "      <th>Transmissibilidade</th>\n",
       "      <th>geometry</th>\n",
       "    </tr>\n",
       "  </thead>\n",
       "  <tbody>\n",
       "    <tr>\n",
       "      <th>0</th>\n",
       "      <td>Agua Rasa</td>\n",
       "      <td>5.006455</td>\n",
       "      <td>POLYGON ((-46.58128711243225 -23.572649764946,...</td>\n",
       "    </tr>\n",
       "    <tr>\n",
       "      <th>1</th>\n",
       "      <td>Alto De Pinheiros</td>\n",
       "      <td>4.619962</td>\n",
       "      <td>POLYGON ((-46.71921569108098 -23.5363344013688...</td>\n",
       "    </tr>\n",
       "    <tr>\n",
       "      <th>2</th>\n",
       "      <td>Anhanguera</td>\n",
       "      <td>6.380384</td>\n",
       "      <td>POLYGON ((-46.78579834173713 -23.4046766027350...</td>\n",
       "    </tr>\n",
       "    <tr>\n",
       "      <th>3</th>\n",
       "      <td>Aricanduva</td>\n",
       "      <td>5.394884</td>\n",
       "      <td>POLYGON ((-46.51666242710171 -23.5548090876071...</td>\n",
       "    </tr>\n",
       "    <tr>\n",
       "      <th>4</th>\n",
       "      <td>Artur Alvim</td>\n",
       "      <td>5.823862</td>\n",
       "      <td>POLYGON ((-46.47482722150997 -23.5234761186693...</td>\n",
       "    </tr>\n",
       "  </tbody>\n",
       "</table>\n",
       "</div>"
      ],
      "text/plain": [
       "            Distrito  Transmissibilidade  \\\n",
       "0          Agua Rasa            5.006455   \n",
       "1  Alto De Pinheiros            4.619962   \n",
       "2         Anhanguera            6.380384   \n",
       "3         Aricanduva            5.394884   \n",
       "4        Artur Alvim            5.823862   \n",
       "\n",
       "                                            geometry  \n",
       "0  POLYGON ((-46.58128711243225 -23.572649764946,...  \n",
       "1  POLYGON ((-46.71921569108098 -23.5363344013688...  \n",
       "2  POLYGON ((-46.78579834173713 -23.4046766027350...  \n",
       "3  POLYGON ((-46.51666242710171 -23.5548090876071...  \n",
       "4  POLYGON ((-46.47482722150997 -23.5234761186693...  "
      ]
     },
     "execution_count": 15,
     "metadata": {},
     "output_type": "execute_result"
    }
   ],
   "source": [
    "transmissibilidade_por_distrito.head()"
   ]
  }
 ],
 "metadata": {
  "kernelspec": {
   "display_name": "env",
   "language": "python",
   "name": "env"
  },
  "language_info": {
   "codemirror_mode": {
    "name": "ipython",
    "version": 3
   },
   "file_extension": ".py",
   "mimetype": "text/x-python",
   "name": "python",
   "nbconvert_exporter": "python",
   "pygments_lexer": "ipython3",
   "version": "3.6.7"
  }
 },
 "nbformat": 4,
 "nbformat_minor": 2
}
